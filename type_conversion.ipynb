{
 "cells": [
  {
   "cell_type": "code",
   "execution_count": 1,
   "id": "776fa5c8-d448-4553-baa2-5f133ea6338c",
   "metadata": {},
   "outputs": [
    {
     "name": "stdin",
     "output_type": "stream",
     "text": [
      "Enter any integer number to convert into floating point number 12\n"
     ]
    },
    {
     "data": {
      "text/plain": [
       "12.0"
      ]
     },
     "execution_count": 1,
     "metadata": {},
     "output_type": "execute_result"
    }
   ],
   "source": [
    "#convert integer into float\n",
    "num = int(input(\"Enter any integer number to convert into floating point number\"))\n",
    "float(num)\n"
   ]
  },
  {
   "cell_type": "code",
   "execution_count": 3,
   "id": "b3164d72-d53a-466c-82e6-ad89253e028c",
   "metadata": {},
   "outputs": [
    {
     "name": "stdin",
     "output_type": "stream",
     "text": [
      "Enter any float number to convert into integer   number 2.13\n"
     ]
    },
    {
     "data": {
      "text/plain": [
       "2"
      ]
     },
     "execution_count": 3,
     "metadata": {},
     "output_type": "execute_result"
    }
   ],
   "source": [
    "#convert float into integer\n",
    "num = float(input(\"Enter any float number to convert into integer   number\"))\n",
    "int(num)\n",
    "\n"
   ]
  },
  {
   "cell_type": "code",
   "execution_count": 5,
   "id": "2fece28f-4c51-41c9-b866-54180a25e6b0",
   "metadata": {},
   "outputs": [
    {
     "name": "stdout",
     "output_type": "stream",
     "text": [
      "(12, 123, 23, 5, 5, 6, 67, 7, 3)\n"
     ]
    }
   ],
   "source": [
    "#convert list into tuple\n",
    "my_list = [12,123,23,5,5,6,67,7,3,]\n",
    "my_tuple  = tuple(my_list)\n",
    "print(my_tuple)\n"
   ]
  },
  {
   "cell_type": "code",
   "execution_count": 6,
   "id": "73297af1-6278-4241-865f-0f8f03a3dcd0",
   "metadata": {},
   "outputs": [
    {
     "name": "stdout",
     "output_type": "stream",
     "text": [
      "[12, 23, 24, 56, 7, 88, 2, 1]\n"
     ]
    }
   ],
   "source": [
    "#convert tuple into list\n",
    "my_tuple = (12,23,24,56,7,88,2,1)\n",
    "my_list = list(my_tuple)\n",
    "print(my_list)\n"
   ]
  },
  {
   "cell_type": "code",
   "execution_count": 7,
   "id": "7cc32481-c330-4b65-adf7-a1a70fd28d0d",
   "metadata": {},
   "outputs": [
    {
     "name": "stdin",
     "output_type": "stream",
     "text": [
      "Enter any integer number 12\n"
     ]
    },
    {
     "data": {
      "text/plain": [
       "'0b1100'"
      ]
     },
     "execution_count": 7,
     "metadata": {},
     "output_type": "execute_result"
    }
   ],
   "source": [
    "#convert decimal number into binary number\n",
    "num = int(input(\"Enter any integer number\"))\n",
    "bin(num)\n"
   ]
  },
  {
   "cell_type": "code",
   "execution_count": 8,
   "id": "cac9a593-d806-4bd2-9527-53a82305fba3",
   "metadata": {},
   "outputs": [
    {
     "name": "stdin",
     "output_type": "stream",
     "text": [
      "Enter any non_zero number: 123\n"
     ]
    },
    {
     "name": "stdout",
     "output_type": "stream",
     "text": [
      "True\n"
     ]
    }
   ],
   "source": [
    "#convet non-zero number to boolean\n",
    "num = int(input(\"Enter any non_zero number:\"))\n",
    "result = bool(num)\n",
    "print(result)\n"
   ]
  },
  {
   "cell_type": "code",
   "execution_count": null,
   "id": "e58b767d-78d3-46f6-b6c0-0948d3e549d8",
   "metadata": {},
   "outputs": [],
   "source": []
  }
 ],
 "metadata": {
  "kernelspec": {
   "display_name": "Python 3 (ipykernel)",
   "language": "python",
   "name": "python3"
  },
  "language_info": {
   "codemirror_mode": {
    "name": "ipython",
    "version": 3
   },
   "file_extension": ".py",
   "mimetype": "text/x-python",
   "name": "python",
   "nbconvert_exporter": "python",
   "pygments_lexer": "ipython3",
   "version": "3.10.8"
  }
 },
 "nbformat": 4,
 "nbformat_minor": 5
}
